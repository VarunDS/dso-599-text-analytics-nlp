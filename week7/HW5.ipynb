{
 "cells": [
  {
   "cell_type": "markdown",
   "metadata": {},
   "source": [
    "# Homework  (Due 5:30pm PST April 30rd, 2019): GloVe, Collaborative Filtering, and Deep Learning"
   ]
  },
  {
   "cell_type": "markdown",
   "metadata": {},
   "source": [
    "### Submit one notebook per project group via Slack/email. Pick TWO of the three tasks below to complete:\n",
    "\n",
    "A. Build a **deep learning neural network** to predict any classification label in your dataset. Your implementation must include:\n",
    "\n",
    "* use of word embeddings (GloVe, fasttext, word2vec)\n",
    "\n",
    "* discussion of which word embedding type performs the best and why\n",
    "\n",
    "* discussion of baseline accuracy and most important performance metrics to consider when evaluating your model\n",
    "\n",
    "\n",
    "B. Build **an unsupervised clustering model** to cluster and visualize the text in your dataset. Your implementation must include:\n",
    "- a **dimensionality reduction** technique (SVD, t-SNE, PCA)\n",
    "- a **clustering algorithm** (k-NN, k-means, Gaussian mixture models, etc.)\n",
    "- a discussion of which vectorization technique performs the best and why (GloVe, TF-IDF, word count, one-hot encoding, word2vec)\n",
    "\n",
    "C. Use the `complete-shakespeare.txt` dataset for this task. Write a **regular expression that provides**:\n",
    "- all stage instructions (non-dialogue)\n",
    "- everything spoken by the character `CALIBAN`\n",
    "- all sentences that end in exclamation points\n",
    "- a dictionary with the key being the scene name, and the value being a list of all the characters who appear in them."
   ]
  },
  {
   "cell_type": "code",
   "execution_count": null,
   "metadata": {},
   "outputs": [],
   "source": []
  }
 ],
 "metadata": {
  "kernelspec": {
   "display_name": "Python 3",
   "language": "python",
   "name": "python3"
  },
  "language_info": {
   "codemirror_mode": {
    "name": "ipython",
    "version": 3
   },
   "file_extension": ".py",
   "mimetype": "text/x-python",
   "name": "python",
   "nbconvert_exporter": "python",
   "pygments_lexer": "ipython3",
   "version": "3.6.4"
  }
 },
 "nbformat": 4,
 "nbformat_minor": 2
}
