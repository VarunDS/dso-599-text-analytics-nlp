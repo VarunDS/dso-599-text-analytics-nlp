{
 "cells": [
  {
   "cell_type": "markdown",
   "metadata": {},
   "source": [
    "# Homework  (Due 5:30pm PST April 30rd, 2019): GloVe, Collaborative Filtering, and Deep Learning"
   ]
  },
  {
   "cell_type": "markdown",
   "metadata": {},
   "source": [
    "### Submit one notebook per project group via Slack/email. Pick ONE of the TWO tasks below to complete:\n",
    "\n",
    "\n",
    "A. Build **an unsupervised clustering model** to cluster and visualize the text in your dataset. Your implementation must include:\n",
    "- a **dimensionality reduction** technique (PCA)\n",
    "- a **clustering algorithm** (k-NN, k-means, Gaussian mixture models, etc.) - you can find an example of how to use a clustering algorithm in the Glove and Clustering Jupyter notebook in week 7's folder.\n",
    "- a discussion of which vectorization technique performs the best and why (GloVe, TF-IDF, word count, one-hot encoding, word2vec)\n",
    "\n",
    "B. Use the `complete-shakespeare.txt` dataset for this task. Write **regular expressions that provides**:\n",
    "- all stage instructions (non-dialogue)\n",
    "- everything spoken by the character `CALIBAN`\n",
    "- all sentences that end in exclamation points\n",
    "- a dictionary with the key being the scene name, and the value being a list of all the characters who appear in them.\n",
    "\n",
    "You can assume that a sentence or dialogue is only ONE line long (ie. I will not take off points if you cannot capture multiline dialogue)."
   ]
  },
  {
   "cell_type": "code",
   "execution_count": null,
   "metadata": {},
   "outputs": [],
   "source": []
  }
 ],
 "metadata": {
  "kernelspec": {
   "display_name": "Python 3",
   "language": "python",
   "name": "python3"
  },
  "language_info": {
   "codemirror_mode": {
    "name": "ipython",
    "version": 3
   },
   "file_extension": ".py",
   "mimetype": "text/x-python",
   "name": "python",
   "nbconvert_exporter": "python",
   "pygments_lexer": "ipython3",
   "version": "3.6.4"
  }
 },
 "nbformat": 4,
 "nbformat_minor": 2
}
