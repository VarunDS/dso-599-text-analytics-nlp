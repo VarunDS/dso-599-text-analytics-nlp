{
 "cells": [
  {
   "cell_type": "markdown",
   "metadata": {},
   "source": [
    "# Homework  (Due 5:30pm PST April 23rd, 2019): Word Embeddings and Dimensionality Reduction"
   ]
  },
  {
   "cell_type": "markdown",
   "metadata": {},
   "source": [
    "### Submit one notebook per project group via Slack/email.\n",
    "\n",
    "1. Pick your dataset for approval by me by Friday 11:59pm PST. Not submitting for approval will result in no credit for this HW.\n",
    "\n",
    "\n",
    "2. Find the **most similar sentences or documents in your dataset using word count, TF-IDF, and word-embeddings** as your vectorization techniques. If the computation is slow, **you may subsample** for only a few thousand rows. (2 pts)\n",
    "\n",
    "\n",
    "3. Using the dimensionality techniques we have learned thus far, **reduce the dimensionality of your vectors to 2**. **Verify that  the dimension vectors are now orthonormal (no correlation between each other)**. (2 pts)\n",
    "\n",
    "\n",
    "4. **Visualize the reduced dimension individual documents on a scatter plot**. Comment on which vectorization technique appears to yield the best results and why- compare and contrast the effectiveness of each of your dimensionality reduction techniques on visualizing the data. (2 pts)\n",
    "\n",
    "## Individually:\n",
    "\n",
    "Read pages **42-49 (Section 2.5.1) on PCA and SVD**, and pages **240 - 247 (word2vec)** in the textbook. Be prepared for an exercise at the start of class next Tuesday."
   ]
  },
  {
   "cell_type": "code",
   "execution_count": null,
   "metadata": {},
   "outputs": [],
   "source": []
  }
 ],
 "metadata": {
  "kernelspec": {
   "display_name": "Python 3",
   "language": "python",
   "name": "python3"
  },
  "language_info": {
   "codemirror_mode": {
    "name": "ipython",
    "version": 3
   },
   "file_extension": ".py",
   "mimetype": "text/x-python",
   "name": "python",
   "nbconvert_exporter": "python",
   "pygments_lexer": "ipython3",
   "version": "3.6.4"
  }
 },
 "nbformat": 4,
 "nbformat_minor": 2
}
