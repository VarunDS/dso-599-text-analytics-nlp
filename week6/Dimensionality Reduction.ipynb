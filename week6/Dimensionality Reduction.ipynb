{
 "cells": [
  {
   "cell_type": "markdown",
   "metadata": {},
   "source": [
    "# Dimensionality Reduction\n",
    "\n",
    "## The Problem\n",
    "\n",
    "There is an interesting tradeoff between model performance and a feature's dimensionality:\n",
    "![http://www.visiondummy.com/2014/04/curse-dimensionality-affect-classification/](dimensionality_vs_performance.png)\n",
    "\n",
    ">*If the amount of available training data is fixed, then overfitting occurs if we keep adding dimensions. On the other hand, if we keep adding dimensions, the amount of **training data needs to grow exponentially fast to maintain the same coverage** and to avoid overfitting* ([Computer Vision for Dummies](http://www.visiondummy.com/2014/04/curse-dimensionality-affect-classification/)).\n",
    "\n",
    "![http://www.visiondummy.com/2014/04/curse-dimensionality-affect-classification/](curseofdimensionality.png)\n",
    "\n",
    "### Multi-Collinearity\n",
    "\n",
    "In many cases, there is a high degree of correlation between many of the features in a dataset. For instance, suppose that you\n",
    "\n",
    "\n",
    "## Sparsity\n",
    "\n",
    "- High dimensionality increases the sparsity of your features (**what NLP techniques have we used that illustrate this point?**)\n",
    "- The density of the training samples decreases when dimensionality increases:\n",
    "- Distance measures (Euclidean, for instance) start losing their effectiveness, because there isn't much difference between the max and min distances in higher dimensions.\n",
    "- Many models that rely upon assumptions of Gaussian distributions (like OLS linear regression), Gaussian mixture models, Gaussian processes, etc. become less and less effective since their distributions become flatter and \"fatter tailed\".\n",
    "![http://www.visiondummy.com/2014/04/curse-dimensionality-affect-classification/](distance-asymptote.png)\n",
    "\n",
    "What is the amount of data needed to maintain **20% coverage** of the feature space? For 1 dimension, it is **20% of the entire population's dataset**. For a dimensionality of $D$:\n",
    "\n",
    "$$\n",
    "X^{D} = .20\n",
    "$$\n",
    "$$\n",
    "(X^{D})^{\\frac{1}{D}} = .20^{\\frac{1}{D}}\n",
    "$$\n",
    "$$\n",
    "X = \\sqrt[D]{.20}\n",
    "$$\n",
    "You can approximate this as \n",
    "```python\n",
    "def coverage_requirement(requirement, D):\n",
    "    return requirement ** (1 / D)\n",
    "\n",
    "x = []\n",
    "y = []\n",
    "for d in range(1,20):\n",
    "    y.append(coverage_requirement(0.10, d))\n",
    "    x.append(d)\n",
    "    \n",
    "import matplotlib.pyplot as plt\n",
    "\n",
    "plt.plot(x,y)\n",
    "plt.xlabel(\"Number of Dimensions\")\n",
    "plt.ylabel(\"Appromximate % of Population Dataset\")\n",
    "plt.title(\"% of Dataset Needed to Maintain 10% Coverage of Feature Space\")\n",
    "plt.show()\n",
    "```\n",
    "<img src=\"coverage-needed.png\" width=\"500\">"
   ]
  },
  {
   "cell_type": "code",
   "execution_count": 39,
   "metadata": {},
   "outputs": [
    {
     "data": {
      "text/html": [
       "<div>\n",
       "<style scoped>\n",
       "    .dataframe tbody tr th:only-of-type {\n",
       "        vertical-align: middle;\n",
       "    }\n",
       "\n",
       "    .dataframe tbody tr th {\n",
       "        vertical-align: top;\n",
       "    }\n",
       "\n",
       "    .dataframe thead th {\n",
       "        text-align: right;\n",
       "    }\n",
       "</style>\n",
       "<table border=\"1\" class=\"dataframe\">\n",
       "  <thead>\n",
       "    <tr style=\"text-align: right;\">\n",
       "      <th></th>\n",
       "      <th>Bi-Gram 1</th>\n",
       "      <th>Bi-Gram 2</th>\n",
       "      <th>Correlation</th>\n",
       "    </tr>\n",
       "  </thead>\n",
       "  <tbody>\n",
       "    <tr>\n",
       "      <th>43</th>\n",
       "      <td>don waste your</td>\n",
       "      <td>waste your money</td>\n",
       "      <td>0.777888</td>\n",
       "    </tr>\n",
       "    <tr>\n",
       "      <th>197</th>\n",
       "      <td>waste your money</td>\n",
       "      <td>don waste your</td>\n",
       "      <td>0.777888</td>\n",
       "    </tr>\n",
       "    <tr>\n",
       "      <th>82</th>\n",
       "      <td>of the box</td>\n",
       "      <td>out of the</td>\n",
       "      <td>0.609369</td>\n",
       "    </tr>\n",
       "    <tr>\n",
       "      <th>110</th>\n",
       "      <td>out of the</td>\n",
       "      <td>of the box</td>\n",
       "      <td>0.609369</td>\n",
       "    </tr>\n",
       "    <tr>\n",
       "      <th>123</th>\n",
       "      <td>this for my</td>\n",
       "      <td>my year old</td>\n",
       "      <td>0.078176</td>\n",
       "    </tr>\n",
       "  </tbody>\n",
       "</table>\n",
       "</div>"
      ],
      "text/plain": [
       "            Bi-Gram 1         Bi-Gram 2  Correlation\n",
       "43     don waste your  waste your money     0.777888\n",
       "197  waste your money    don waste your     0.777888\n",
       "82         of the box        out of the     0.609369\n",
       "110        out of the        of the box     0.609369\n",
       "123       this for my       my year old     0.078176"
      ]
     },
     "execution_count": 39,
     "metadata": {},
     "output_type": "execute_result"
    }
   ],
   "source": [
    "import pandas as pd\n",
    "from sklearn.feature_extraction.text import CountVectorizer\n",
    "reviews = pd.read_csv(\"mcdonalds-yelp-sentiment.csv\", encoding='latin-1')\n",
    "reviews = open(\"poor_amazon_toy_reviews.txt\", encoding='latin-1')\n",
    "\n",
    "#text = reviews[\"review\"].values\n",
    "text = reviews.readlines()\n",
    "\n",
    "\n",
    "vectorizer = CountVectorizer(ngram_range=(3,3), min_df=0.01, max_df=0.75, max_features=200)\n",
    "# tokenize and build vocab\n",
    "vectorizer.fit(text)\n",
    "vector = vectorizer.transform(text)\n",
    "features = vector.toarray()\n",
    "features_df = pd.DataFrame(features, columns=vectorizer.get_feature_names())\n",
    "\n",
    "correlations = features_df.corr()\n",
    "correlations_stacked = correlations.stack().reset_index()\n",
    "#set column names\n",
    "correlations_stacked.columns = ['Bi-Gram 1','Bi-Gram 2','Correlation']\n",
    "correlations_stacked = correlations_stacked[correlations_stacked[\"Correlation\"] < 1]\n",
    "correlations_stacked = correlations_stacked.sort_values(by=['Correlation'], ascending=False)\n",
    "correlations_stacked.head()"
   ]
  },
  {
   "cell_type": "code",
   "execution_count": 40,
   "metadata": {},
   "outputs": [
    {
     "data": {
      "text/plain": [
       "<matplotlib.axes._subplots.AxesSubplot at 0x12a4794e0>"
      ]
     },
     "execution_count": 40,
     "metadata": {},
     "output_type": "execute_result"
    },
    {
     "data": {
      "image/png": "[encoded data removed]",
      "text/plain": [
       "<matplotlib.figure.Figure at 0x12a85c160>"
      ]
     },
     "metadata": {},
     "output_type": "display_data"
    }
   ],
   "source": [
    "import seaborn as sns\n",
    "import matplotlib.pyplot as plt\n",
    "plt.rcParams[\"figure.figsize\"] = (15,15)\n",
    "sns.heatmap(correlations)"
   ]
  },
  {
   "cell_type": "markdown",
   "metadata": {},
   "source": [
    "# Principle Component Analysis\n",
    "\n",
    "If you have an original matrix $Z$, you can decompose this matrix into two smaller matrices $X$ and $Q$. \n",
    "\n",
    "## Important Points:\n",
    "\n",
    "- Multiplying a vector by a matrix typically changes the direction of the vector. For instance:\n",
    "<figure>\n",
    "  <img src=\"images/multvector.png\" alt=\"my alt text\"/>\n",
    "    <figcaption><a href=\"https://lazyprogrammer.me/tutorial-principal-components-analysis-pca\">Lazy Programmer- \n",
    "        Tutorial to PCA</a></figcaption>\n",
    "</figure>"
   ]
  },
  {
   "cell_type": "markdown",
   "metadata": {},
   "source": [
    "However, there are eigenvalues λ and eigenvectors $v$ such that\n",
    "\n",
    "$$\n",
    "\\sum{X}v = \\lambda v\n",
    "$$\n",
    "\n",
    "Multiplying the eigenvectors $v$ with the eigenvalue $\\lambda$ does not change the direction of the eigenvector.\n",
    "\n",
    "Multiplying the eigenvector $v$ by the covariance matrix $\\sum{X}$ also does not change the direction of the eigenvector.\n",
    "\n",
    "If our data $X$ is of shape $N \\times D$, it turns out that we have $D$ eigenvalues and $D$ eigenvectors. This means we can arrange the eigenvalues $\\lambda$ in decreasing order so that\n",
    "\n",
    "$$\n",
    "\\lambda_3 > \\lambda_2 > \\lambda_5\n",
    "$$\n",
    "\n",
    "In this case, $\\lambda_3$ is the largest eigenvalue, followed by $\\lambda_2$, and then $\\lambda_5$. Then, we can arrange \n",
    "\n",
    "We can also rearrange the eigenvectors the same: $v_3$ will be the first column, $v_2$ will be the second column, and $v_5$ will be the third column.\n",
    "\n",
    "We'll end up with two matrices $V$ and $\\Lambda$:\n",
    "<figure>\n",
    "  <img src=\"images/pca1.png\" alt=\"my alt text\"/>\n",
    "    <figcaption><a href=\"https://lazyprogrammer.me/tutorial-principal-components-analysis-pca\">Lazy Programmer- \n",
    "        Tutorial to PCA</a></figcaption>\n",
    "</figure>"
   ]
  },
  {
   "cell_type": "code",
   "execution_count": 41,
   "metadata": {},
   "outputs": [
    {
     "data": {
      "text/plain": [
       "(12700, 15)"
      ]
     },
     "execution_count": 41,
     "metadata": {},
     "output_type": "execute_result"
    }
   ],
   "source": [
    "# what is the shape of our features?\n",
    "features.shape"
   ]
  },
  {
   "cell_type": "code",
   "execution_count": 42,
   "metadata": {},
   "outputs": [
    {
     "data": {
      "text/plain": [
       "(12700, 4)"
      ]
     },
     "execution_count": 42,
     "metadata": {},
     "output_type": "execute_result"
    }
   ],
   "source": [
    "from sklearn.decomposition import PCA\n",
    "\n",
    "pca = PCA(n_components=4)\n",
    "\n",
    "Z = pca.fit_transform(features)\n",
    "\n",
    "# what is the shape of Z?\n",
    "Z.shape"
   ]
  },
  {
   "cell_type": "code",
   "execution_count": 43,
   "metadata": {},
   "outputs": [
    {
     "data": {
      "text/plain": [
       "<matplotlib.axes._subplots.AxesSubplot at 0x12add1550>"
      ]
     },
     "execution_count": 43,
     "metadata": {},
     "output_type": "execute_result"
    },
    {
     "data": {
      "image/png": "[encoded data removed]",
      "text/plain": [
       "<matplotlib.figure.Figure at 0x1242de940>"
      ]
     },
     "metadata": {},
     "output_type": "display_data"
    }
   ],
   "source": [
    "# what will happen if we take the correlation matrix and covariance matrix of our new reduced features?\n",
    "import numpy as np\n",
    "covariances = pd.DataFrame(np.cov(Z.transpose()))\n",
    "plt.rcParams[\"figure.figsize\"] = (5,5)\n",
    "sns.heatmap(covariances)"
   ]
  },
  {
   "cell_type": "code",
   "execution_count": 44,
   "metadata": {},
   "outputs": [
    {
     "data": {
      "text/plain": [
       "array([[ 0.19584061, -0.05193457],\n",
       "       [-0.03890385, -0.02632155],\n",
       "       [-0.03890385, -0.02632155],\n",
       "       ...,\n",
       "       [-0.03890385, -0.02632155],\n",
       "       [-0.03890385, -0.02632155],\n",
       "       [-0.03890385, -0.02632155]])"
      ]
     },
     "execution_count": 44,
     "metadata": {},
     "output_type": "execute_result"
    }
   ],
   "source": [
    "pca = PCA(n_components=2)\n",
    "Z_two_dimensions = pca.fit_transform(features)\n",
    "Z_two_dimensions"
   ]
  },
  {
   "cell_type": "code",
   "execution_count": 45,
   "metadata": {},
   "outputs": [
    {
     "data": {
      "image/png": "[encoded data removed]",
      "text/plain": [
       "<matplotlib.figure.Figure at 0x12d11e6d8>"
      ]
     },
     "metadata": {},
     "output_type": "display_data"
    }
   ],
   "source": [
    "import matplotlib.pyplot as plt\n",
    "\n",
    "plt.scatter(Z_two_dimensions[:,0], Z_two_dimensions[:, 1])\n",
    "reduced_features_df = pd.DataFrame(Z_two_dimensions, columns=[\"x1\", \"x2\"])\n",
    "reduced_features_df[\"text\"] = text\n",
    "reduced_features_df.to_csv(\"reduced_features.csv\")"
   ]
  },
  {
   "cell_type": "markdown",
   "metadata": {},
   "source": [
    "# Singular Value Decomposition\n",
    "\n",
    "Given an input matrix $A$, we want to try to represent it instead as three smaller matrices $U$, $\\sum$, and $V$. Instead of **$n$ original terms**, we want to represent each document as **$r$ concepts** (other referred to as **latent dimensions**, or **latent factors**):\n",
    "<figure>\n",
    "  <img src=\"images/svd.png\" alt=\"my alt text\"/>\n",
    "    <figcaption><i>\n",
    "        <a href=\"https://www.youtube.com/watch?v=P5mlg91as1c\">Mining of Massive Datasets - Dimensionality Reduction: Singular Value Decomposition</a> by Leskovec, Rajaraman, and Ullman (Stanford University)</i></figcaption>\n",
    "</figure>\n",
    "\n",
    "Here, **$A$ is your matrix of word vectors** - you could use any of the word vectorization techniques we have learned so far, include one-hot encoding, word count, TF-IDF.\n",
    "\n",
    "- $\\sum$ will be a **diagonal matrix** with values that are positive and sorted in decreasing order. Its value indicate the **variance (information encoded on that new dimension)**- therefore, the higher the value, the stronger that dimension is in capturing data from A, the original features. For our purposes, we can think of the rank of this $\\sum$ matrix as the number of desired dimensions. Instance, if we want to reduce $A$ from shape $1020 x 300$ to $1020 x 10$, we will want to reduce the rank of $\\sum$ from 300 to 10.\n",
    "\n",
    "- $U^T U = I$ and $V^T V = I$\n",
    "\n",
    "## Measuring the Quality of the Reconstruction\n",
    "\n",
    "A popular metric used for measuring the quality of the reconstruction is the [Frobenius Norm](https://en.wikipedia.org/wiki/Matrix_norm#Frobenius_norm). When you explain your methodology for reducing dimensions, usually managers / stakeholders will want to some way to compare multiple dimensionality techniques' ability to quantify its ability to retain information but trim dimensions:\n",
    "\n",
    "$$\n",
    "\\begin{equation}\n",
    "||A_{old}-A_{new}||_{F} = \\sqrt{\\sum_{ij}{(A^{old}_{ij}- A^{new}_{ij}}})^2\n",
    "\\end{equation}\n",
    "$$\n",
    "\n",
    "## Heuristic Step for How Many Dimensions to Keep\n",
    "\n",
    "1. Sum the $\\sum$ matrix's diagonal values: \n",
    "$$\n",
    "\\begin{equation}\n",
    "\\sum_{i}^{m}\\sigma_{i}\n",
    "\\end{equation}\n",
    "$$\n",
    "\n",
    "2. Define your threshold of \"information\" (variance) $\\alpha$ to keep: usually 80% to 90%. \n",
    "\n",
    "3. Define your cutoff point $C$: $$\n",
    "\\begin{equation}\n",
    "C = \\sum_{i}^{m}\\sigma_{i} \\alpha\n",
    "\\end{equation}\n",
    "$$\n",
    "\n",
    "4. Beginning with your largest singular value, sum your singular values $\\sigma_{i}$ until it is greater than C. Retain only those dimensions."
   ]
  },
  {
   "cell_type": "code",
   "execution_count": 25,
   "metadata": {},
   "outputs": [
    {
     "data": {
      "image/png": "[encoded data removed]",
      "text/plain": [
       "<matplotlib.figure.Figure at 0x128b8d080>"
      ]
     },
     "metadata": {},
     "output_type": "display_data"
    }
   ],
   "source": [
    "import numpy as np\n",
    "import matplotlib.pyplot as plt\n",
    "from scipy.linalg import svd\n",
    "x = np.linspace(1,20, 20) # create the first dimension\n",
    "x = np.concatenate((x,x))\n",
    "y = x + np.random.normal(0,1, 40) # create the second dimension\n",
    "z = x + np.random.normal(0,2, 40) # create the third dimension\n",
    "a = x + np.random.normal(0,4, 40) # create the fourth dimension\n",
    "plt.scatter(x,y) # plot just the first two dimensions\n",
    "plt.show()"
   ]
  },
  {
   "cell_type": "code",
   "execution_count": 26,
   "metadata": {},
   "outputs": [
    {
     "data": {
      "text/plain": [
       "array([[ 1.        ,  0.77950175,  0.7677888 , -0.56338469],\n",
       "       [ 2.        ,  2.37168063,  2.68471589,  5.07651543],\n",
       "       [ 3.        ,  4.23624726,  5.41206404,  6.0099617 ],\n",
       "       [ 4.        ,  4.46378345,  4.44011107,  9.75428485],\n",
       "       [ 5.        ,  6.50663634,  4.66200827,  4.11785887],\n",
       "       [ 6.        ,  5.94101546, 10.02615748,  9.45905519],\n",
       "       [ 7.        ,  6.08581691,  0.47947543,  9.33775111],\n",
       "       [ 8.        ,  8.50611795,  4.76759185,  2.58313411],\n",
       "       [ 9.        ,  8.85808728, 11.924234  ,  3.16806057],\n",
       "       [10.        ,  9.81238686, 11.75431427,  9.3688049 ],\n",
       "       [11.        ,  8.91639482, 14.3247862 , 12.86762692],\n",
       "       [12.        , 10.82815483,  9.81102502, 17.17389241],\n",
       "       [13.        , 11.97544391, 12.74739555, 13.85953691],\n",
       "       [14.        , 14.44142881, 13.73807306, 12.38912932],\n",
       "       [15.        , 14.6098057 , 16.54791873, 13.84012328],\n",
       "       [16.        , 15.33512682, 14.80703823, 20.31090617],\n",
       "       [17.        , 15.95991959, 19.17082756, 11.31018836],\n",
       "       [18.        , 17.41056707, 20.24597257, 20.76009469],\n",
       "       [19.        , 19.07420736, 21.06709273, 11.94927062],\n",
       "       [20.        , 19.68485709, 15.5035568 , 24.61855472],\n",
       "       [ 1.        ,  0.55202803,  1.53319735,  6.05005041],\n",
       "       [ 2.        ,  3.69366161,  4.41677271, -1.49068716],\n",
       "       [ 3.        ,  3.21751898,  4.63878563,  5.32230317],\n",
       "       [ 4.        ,  4.24055608,  1.04304654, -0.28281646],\n",
       "       [ 5.        ,  5.88922848,  3.28261049, 10.7436995 ],\n",
       "       [ 6.        ,  6.30668612,  4.44229131,  3.6406705 ],\n",
       "       [ 7.        ,  7.56914998,  7.3755215 ,  8.3623776 ],\n",
       "       [ 8.        , 10.54384416, 13.32846563, 10.57344076],\n",
       "       [ 9.        , 10.04319803,  9.45062888, 14.89627194],\n",
       "       [10.        , 10.66212523, 10.99819923, 12.36232314],\n",
       "       [11.        , 11.14953649,  8.04430148, 10.37330748],\n",
       "       [12.        , 12.63366622, 12.89333678, 15.37158399],\n",
       "       [13.        , 14.08764033, 14.53184093,  9.81763298],\n",
       "       [14.        , 13.41368703, 13.51218414, 11.62458517],\n",
       "       [15.        , 14.64728374, 14.92915007, 14.00188219],\n",
       "       [16.        , 17.24241005, 16.48392888, 11.60676132],\n",
       "       [17.        , 18.13595467, 17.78644608, 13.5988243 ],\n",
       "       [18.        , 19.60109224, 20.26131041, 17.23827819],\n",
       "       [19.        , 18.24049712, 21.70792017, 16.70115288],\n",
       "       [20.        , 19.38794542, 19.53899593, 22.5304716 ]])"
      ]
     },
     "execution_count": 26,
     "metadata": {},
     "output_type": "execute_result"
    }
   ],
   "source": [
    "A = np.stack([x,y,z,a]).T\n",
    "A"
   ]
  },
  {
   "cell_type": "code",
   "execution_count": 47,
   "metadata": {},
   "outputs": [
    {
     "name": "stdout",
     "output_type": "stream",
     "text": [
      "s is [152.86974397  21.23629493  10.8533152    4.10757824]\n",
      "\n",
      "U is [[-0.0065041   0.05469218 -0.03365372 ... -0.22239603 -0.25909183\n",
      "  -0.25717117]\n",
      " [-0.03966881 -0.1058881   0.07421117 ... -0.26639667  0.15604784\n",
      "   0.0815931 ]\n",
      " [-0.06113708 -0.05823958  0.14883772 ... -0.10575752 -0.16214804\n",
      "   0.03279713]\n",
      " ...\n",
      " [-0.24577592  0.08393435  0.02374991 ...  0.87896565 -0.02911555\n",
      "  -0.03335981]\n",
      " [-0.24769877  0.12976656  0.13040048 ... -0.03325364  0.88036094\n",
      "  -0.06124731]\n",
      " [-0.26632272 -0.1296538  -0.01417942 ... -0.02760683 -0.0678463\n",
      "   0.90535574]]\n",
      "\n",
      "V is [[-0.49363198 -0.4960859  -0.51307612 -0.49696996]\n",
      " [ 0.16544881  0.22035026  0.45036767 -0.84925934]\n",
      " [-0.45544321 -0.47763446  0.73066685  0.17482211]\n",
      " [ 0.72216733 -0.69080378  0.00691485 -0.0348808 ]]\n"
     ]
    }
   ],
   "source": [
    "D = 1\n",
    "U, s, V = svd(A)\n",
    "print(f\"s is {s}\\n\")\n",
    "print(f\"U is {U}\\n\")\n",
    "print(f\"V is {V}\")"
   ]
  },
  {
   "cell_type": "code",
   "execution_count": null,
   "metadata": {},
   "outputs": [],
   "source": [
    "s[D:] = 0\n",
    "S = np.zeros((A.shape[0], A.shape[1]))\n",
    "S[:A.shape[1], :A.shape[1]] = np.diag(s)\n",
    "A_reconstructed = U.dot(S.dot(V))\n",
    "np.sum((A_reconstructed - A) ** 2) ** (1/2) # Frobenius norm\n",
    "# reconstruct matrix\n",
    "U.dot(S)"
   ]
  },
  {
   "cell_type": "markdown",
   "metadata": {},
   "source": [
    "# GLOVE\n",
    "\n",
    "Global vectors for word presentation:\n",
    "<figure>\n",
    "  <img src=\"images/glove_1.png\" alt=\"my alt text\"/>\n",
    "    <figcaption><i>\n",
    "        <a href=\"https://nlp.stanford.edu/pubs/glove.pdf\">GloVe: Global Vectors for Word Representation</a></i></figcaption>\n",
    "</figure>"
   ]
  },
  {
   "cell_type": "markdown",
   "metadata": {},
   "source": [
    "# Exercise (20 minutes)\n",
    "\n",
    "\n",
    "Use the Amazon Fire dataset from the midterm for the following exercise - vectorize the data using TF-IDF, and then reduce the dimensionality down to 2. Visualize the results and see if you can identify common patterns in the clusters.\n",
    "\n",
    "\n",
    "**Challenge:** In the example we have just done, we modelled the relationship between `x` and `y` as a linear relationship. Your manager does not think SVD works as well with non-linear relationships, and is skeptical because many of the social media marketing data she sees has non-linear relationships (ie. the number of times a post was seen versus the number of reactions it got). Investigate what the impact of non-linear relationships on SVD performance is in terms of:\n",
    "\n",
    "- **# of dimensions needed to capture 90% of the variance**\n",
    "- **Frobenius Norm** reconstruction error\n",
    "\n",
    "If SVD is not significantly affected by non-linearity, **explain to your manager why**.\n",
    "\n",
    "If SVD is significantly affected, **evaluate whether or not SVD can still be used as a dimensionality reduction technique**."
   ]
  },
  {
   "cell_type": "code",
   "execution_count": null,
   "metadata": {},
   "outputs": [],
   "source": []
  },
  {
   "cell_type": "code",
   "execution_count": 65,
   "metadata": {},
   "outputs": [
    {
     "name": "stdout",
     "output_type": "stream",
     "text": [
      "[[1 2]\n",
      " [3 4]\n",
      " [5 6]]\n"
     ]
    },
    {
     "data": {
      "text/plain": [
       "array([[9.52551809, 0.        ],\n",
       "       [0.        , 0.51430058],\n",
       "       [0.        , 0.        ]])"
      ]
     },
     "execution_count": 65,
     "metadata": {},
     "output_type": "execute_result"
    }
   ],
   "source": [
    "# define a matrix\n",
    "A = np.array([[1, 2], [3, 4], [5, 6]])\n",
    "print(A)`\n",
    "# Singular-value decomposition\n",
    "U, s, VT = svd(A)\n",
    "# create m x n Sigma matrix\n",
    "Sigma = np.zeros((A.shape[0], A.shape[1]))\n",
    "# populate Sigma with n x n diagonal matrix\n",
    "Sigma[:A.shape[1], :A.shape[1]] = np.diag(s)\n",
    "Sigma"
   ]
  }
 ],
 "metadata": {
  "kernelspec": {
   "display_name": "Python 3",
   "language": "python",
   "name": "python3"
  },
  "language_info": {
   "codemirror_mode": {
    "name": "ipython",
    "version": 3
   },
   "file_extension": ".py",
   "mimetype": "text/x-python",
   "name": "python",
   "nbconvert_exporter": "python",
   "pygments_lexer": "ipython3",
   "version": "3.6.4"
  }
 },
 "nbformat": 4,
 "nbformat_minor": 2
}
