{
 "cells": [
  {
   "cell_type": "markdown",
   "metadata": {},
   "source": [
    "# Using Regex Combined with Pandas"
   ]
  },
  {
   "cell_type": "code",
   "execution_count": 1,
   "metadata": {},
   "outputs": [],
   "source": [
    "import pandas as pd\n",
    "\n",
    "\n",
    "\n",
    "tweets = pd.read_csv(\"tweets.csv\", header=None, names=[\"unknown\", \"unknown2\", \"date\", \"topic\", \"handle\", \"text\"])"
   ]
  },
  {
   "cell_type": "code",
   "execution_count": null,
   "metadata": {},
   "outputs": [],
   "source": [
    "tweets.head()"
   ]
  },
  {
   "cell_type": "code",
   "execution_count": null,
   "metadata": {},
   "outputs": [],
   "source": [
    "# get rid of some columns we don't care about\n",
    "tweets.drop(columns=[\"unknown\", \"unknown2\"], inplace=True)\n",
    "# preview the data\n",
    "tweets.head()\n"
   ]
  },
  {
   "cell_type": "code",
   "execution_count": null,
   "metadata": {},
   "outputs": [],
   "source": [
    "# get length of tweets in characters\n",
    "tweets[\"text\"].str.len()\n",
    "tweets.head()"
   ]
  },
  {
   "cell_type": "code",
   "execution_count": null,
   "metadata": {},
   "outputs": [],
   "source": [
    "# count number of times Obama appears in tweets\n",
    "tweets[\"text\"].str.contains(\"Obama\").sum()"
   ]
  },
  {
   "cell_type": "code",
   "execution_count": null,
   "metadata": {},
   "outputs": [],
   "source": [
    "# find all the @s in the tweets \n",
    "tweets[\"ats\"]=tweets[\"text\"].str.findall(r'\\B@\\w+')"
   ]
  },
  {
   "cell_type": "code",
   "execution_count": null,
   "metadata": {},
   "outputs": [],
   "source": [
    "# Mon May 11 03:17:40 UTC 2009\n",
    "\n",
    "# get the weekday of tweet\n",
    "tweets[\"weekday\"] = tweets[\"date\"].str.extract(r'([a-zA-Z]{3})\\s[a-zA-z]{3}',expand=False)\n",
    "# get the month of the tweet\n",
    "tweets[\"months\"] = tweets[\"date\"].str.extract(r'[a-zA-Z]{3}\\s([a-zA-z]{3})',expand=False)\n",
    "# get the year of the tweet\n",
    "\n",
    "tweets[\"date\"].str.extract(r'[A-Z]{3}\\s(20[0-1][1-9])$')"
   ]
  },
  {
   "cell_type": "markdown",
   "metadata": {},
   "source": [
    "### Exercises ( minutes)\n",
    "1. Identify the list of email addresses for your security administrator to blacklist from your company's email servers.\n",
    "2. Identify any IP addresses that should be blacklisted (an IPv4 address goes from **1.1.1.1 to 255.255.255.255**)\n",
    "3. Find all hashtags mentioned in the tweets dataset. Store it as a separate column called **hashtags**.\n",
    "4. Find the subject headings for these emails.\n"
   ]
  },
  {
   "cell_type": "code",
   "execution_count": null,
   "metadata": {},
   "outputs": [],
   "source": [
    "email_text = open(\"fraudulent_emails.txt\").read()"
   ]
  },
  {
   "cell_type": "code",
   "execution_count": null,
   "metadata": {},
   "outputs": [],
   "source": [
    "# 1. Identify the list of email addresses for your security administrator to blacklist \n",
    "# from your company's email servers.\n",
    "import re\n",
    "set(re.findall(r'\\w+@\\w+\\.\\w{2,6}', email_text)) # this matches only basic emails (myemail@gmail.com)\n",
    "set(re.findall(r'\\w+@\\w+\\.[\\w+\\.]{1,}',email_text)) # this matches more complicated emails with multiple domain names)"
   ]
  },
  {
   "cell_type": "code",
   "execution_count": null,
   "metadata": {},
   "outputs": [],
   "source": [
    "# 2. Identify the list of email addresses for your security administrator to blacklist \n",
    "# from your company's email servers.\n",
    "\n",
    "re.findall(r'[1-2]?[0-9]{1,2}\\.[0-9]{1,3}\\.[0-9]{1,3}\\.[0-9]{1,3}', email_text)"
   ]
  },
  {
   "cell_type": "code",
   "execution_count": null,
   "metadata": {},
   "outputs": [],
   "source": [
    "# 3. Find all hashtags mentioned in the tweets dataset. Store it as a separate column called hashtags.\n",
    "# The \\B is \"not a word boundary\", and it matches because the # (and the @ in the previous example) is not \n",
    "# considered part of a word. Therefore, you need to opposite of a word boundary (a non-word boundary) to match\n",
    "# the case where it begins with a non-word character.\n",
    "\n",
    "# This will correctly NOT match text like she#he, sometext#someothertext\n",
    "tweets[\"text\"].str.findall(r'\\B(#\\w+)\\b')"
   ]
  },
  {
   "cell_type": "code",
   "execution_count": null,
   "metadata": {},
   "outputs": [],
   "source": [
    "# 4. Find the subject headings for these emails.\n",
    "re.findall(r'Subject:\\s(.+)', email_text)"
   ]
  },
  {
   "cell_type": "code",
   "execution_count": null,
   "metadata": {},
   "outputs": [],
   "source": []
  }
 ],
 "metadata": {
  "kernelspec": {
   "display_name": "Python 3",
   "language": "python",
   "name": "python3"
  },
  "language_info": {
   "codemirror_mode": {
    "name": "ipython",
    "version": 3
   },
   "file_extension": ".py",
   "mimetype": "text/x-python",
   "name": "python",
   "nbconvert_exporter": "python",
   "pygments_lexer": "ipython3",
   "version": "3.6.4"
  }
 },
 "nbformat": 4,
 "nbformat_minor": 2
}
